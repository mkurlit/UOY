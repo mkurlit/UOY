{
 "cells": [
  {
   "cell_type": "markdown",
   "metadata": {},
   "source": [
    "This code needs correcting using try .. except\n",
    "\n",
    "Test this with the following pairs of values \n",
    "30 and 3, 5 and 45, 0 and 0, 'hit enter key' \n",
    "to find the type of error/s that are generated"
   ]
  },
  {
   "cell_type": "code",
   "execution_count": 12,
   "metadata": {},
   "outputs": [
    {
     "output_type": "stream",
     "name": "stdout",
     "text": [
      "0  is a multiple of  -13\n"
     ]
    }
   ],
   "source": [
    "num1 = int(input(\"Enter a number:\" ))\n",
    "num2 = int(input(\"Enter another number:\" ))\n",
    "\n",
    "if num1 > num2:\n",
    "  try:\n",
    "    if num1%num2 == 0:\n",
    "      print(num1, \" is a multiple of \", num2)\n",
    "  except ZeroDivisionError:\n",
    "    print(f'The smaller number should not be 0')\n",
    "else:\n",
    "  try:\n",
    "    if num2%num1 == 0:\n",
    "      print(num2, \" is a multiple of \", num1)\n",
    "  except ZeroDivisionError:\n",
    "    print(f'The smaller number should not be 0')\n",
    "    \n",
    "    "
   ]
  },
  {
   "cell_type": "markdown",
   "metadata": {},
   "source": [
    "User input requires a list of space seperated words\n",
    "Create a small list to see what error is generated"
   ]
  },
  {
   "cell_type": "code",
   "execution_count": 16,
   "metadata": {},
   "outputs": [
    {
     "output_type": "stream",
     "name": "stdout",
     "text": [
      "Index 1000 out of range, last item of the list Mike\n"
     ]
    }
   ],
   "source": [
    "names = input(\"List of names:\") \n",
    "nameList = names.split()\n",
    "try:\n",
    "    print(nameList[1000])\n",
    "except IndexError:\n",
    "    print(f'Index 1000 out of range, last item of the list {nameList[-1]}')\n"
   ]
  },
  {
   "cell_type": "markdown",
   "metadata": {},
   "source": [
    "This is an easy misatke to make by users"
   ]
  },
  {
   "cell_type": "code",
   "execution_count": 24,
   "metadata": {},
   "outputs": [
    {
     "output_type": "stream",
     "name": "stdout",
     "text": [
      "670\n530\nInvalid item: 3O - Input needs to be numeric\n720\n100\n"
     ]
    }
   ],
   "source": [
    "randomList = ['67', 53, '3O',72, '10']\n",
    "\n",
    "for i in randomList:\n",
    "  try:\n",
    "    print(int(i) * 10)\n",
    "  except ValueError as e:\n",
    "    print(f'Invalid item: {i} - Input needs to be numeric')\n"
   ]
  },
  {
   "cell_type": "markdown",
   "metadata": {},
   "source": [
    "validating user given file names, what can go wrong?"
   ]
  },
  {
   "cell_type": "code",
   "execution_count": 25,
   "metadata": {},
   "outputs": [
    {
     "output_type": "stream",
     "name": "stdout",
     "text": [
      "File: 'Action.txt' not found\n"
     ]
    }
   ],
   "source": [
    "fileName = input(\"Enter File:\")\n",
    "try:\n",
    "    print(open(fileName).read())\n",
    "except FileNotFoundError:\n",
    "    print(f'File: {fileName} not found')"
   ]
  }
 ],
 "metadata": {
  "kernelspec": {
   "display_name": "Python 3",
   "language": "python",
   "name": "python3"
  },
  "language_info": {
   "codemirror_mode": {
    "name": "ipython",
    "version": 3
   },
   "file_extension": ".py",
   "mimetype": "text/x-python",
   "name": "python",
   "nbconvert_exporter": "python",
   "pygments_lexer": "ipython3",
   "version": "3.6.8-final"
  }
 },
 "nbformat": 4,
 "nbformat_minor": 2
}